{
  "nbformat": 4,
  "nbformat_minor": 0,
  "metadata": {
    "colab": {
      "name": "CANDEV2022.ipynb",
      "provenance": []
    },
    "kernelspec": {
      "name": "python3",
      "display_name": "Python 3"
    },
    "language_info": {
      "name": "python"
    }
  },
  "cells": [
    {
      "cell_type": "code",
      "execution_count": 17,
      "metadata": {
        "colab": {
          "base_uri": "https://localhost:8080/"
        },
        "id": "PTXIBxXXqlJa",
        "outputId": "723eceb7-6ad6-4905-a1fe-ba5cf681481e"
      },
      "outputs": [
        {
          "output_type": "stream",
          "name": "stdout",
          "text": [
            "dashboard.pdf                    INCIDENTS.csv     reassigned.csv\n",
            "group_status_hr_correlation.png  Quesitons.gdoc    reassignment.csv\n",
            "INCIDENT_HISTORY.csv             \u001b[0m\u001b[01;34mRA_DATA\u001b[0m/          service_hr_correlation.png\n",
            "INCIDENT_OWNER_HISTORY.csv       reassign_all.csv\n"
          ]
        }
      ],
      "source": [
        "ls"
      ]
    },
    {
      "cell_type": "code",
      "source": [
        "cd drive/MyDrive/CANDEV2022"
      ],
      "metadata": {
        "colab": {
          "base_uri": "https://localhost:8080/"
        },
        "id": "_aPh-mCorQ6H",
        "outputId": "f1961f5a-c383-4dc4-aecc-94e25461e860"
      },
      "execution_count": 18,
      "outputs": [
        {
          "output_type": "stream",
          "name": "stdout",
          "text": [
            "[Errno 2] No such file or directory: 'drive/MyDrive/CANDEV2022'\n",
            "/content/drive/MyDrive/CANDEV2022\n"
          ]
        }
      ]
    },
    {
      "cell_type": "code",
      "source": [
        "import pandas as pd\n",
        "incidents = pd.read_csv('INCIDENTS.csv')\n",
        "incidents_history = pd.read_csv('INCIDENT_HISTORY.csv')\n",
        "incidents_owner_history = pd.read_csv('INCIDENT_OWNER_HISTORY.csv')"
      ],
      "metadata": {
        "colab": {
          "base_uri": "https://localhost:8080/"
        },
        "id": "ashA7EJ8rUZt",
        "outputId": "56b00a38-e3d2-42f3-c952-fb52ef9adcd2"
      },
      "execution_count": 19,
      "outputs": [
        {
          "output_type": "stream",
          "name": "stderr",
          "text": [
            "/usr/local/lib/python3.7/dist-packages/IPython/core/interactiveshell.py:2882: DtypeWarning: Columns (12) have mixed types.Specify dtype option on import or set low_memory=False.\n",
            "  exec(code_obj, self.user_global_ns, self.user_ns)\n",
            "/usr/local/lib/python3.7/dist-packages/IPython/core/interactiveshell.py:2882: DtypeWarning: Columns (2) have mixed types.Specify dtype option on import or set low_memory=False.\n",
            "  exec(code_obj, self.user_global_ns, self.user_ns)\n"
          ]
        }
      ]
    },
    {
      "cell_type": "code",
      "source": [
        "# delete all datapoints without ticket number\n",
        "incidents = incidents[~incidents['TICKET_NMBR'].isnull()]\n",
        "incidents_history = incidents_history[~incidents_history['ticket_nmbr'].isnull()]\n",
        "incidents_owner_history = incidents_owner_history[~incidents_owner_history['ticket_nmbr'].isnull()]"
      ],
      "metadata": {
        "id": "8CWNzHr_R9ce"
      },
      "execution_count": 20,
      "outputs": []
    },
    {
      "cell_type": "code",
      "source": [
        "# Closed status is not important, delete it\n",
        "incidents_owner_history = incidents_owner_history[incidents_owner_history.STATUS != 'CLOSED']"
      ],
      "metadata": {
        "id": "N19-MTIo6GoU"
      },
      "execution_count": 21,
      "outputs": []
    },
    {
      "cell_type": "code",
      "source": [
        "incidents_owner_history['assigned_group']=incidents_owner_history['assigned_group'].astype('str')\n",
        "incidents = incidents.rename({'TICKET_NMBR': 'ticket_nmbr', 'ASSIGNED_GROUP': 'assigned_group'}, axis='columns')"
      ],
      "metadata": {
        "id": "yaUTS-lQEPU3",
        "colab": {
          "base_uri": "https://localhost:8080/"
        },
        "outputId": "ca916423-aee3-4c24-b1c7-ee0191f798aa"
      },
      "execution_count": 22,
      "outputs": [
        {
          "output_type": "stream",
          "name": "stderr",
          "text": [
            "/usr/local/lib/python3.7/dist-packages/ipykernel_launcher.py:1: SettingWithCopyWarning: \n",
            "A value is trying to be set on a copy of a slice from a DataFrame.\n",
            "Try using .loc[row_indexer,col_indexer] = value instead\n",
            "\n",
            "See the caveats in the documentation: https://pandas.pydata.org/pandas-docs/stable/user_guide/indexing.html#returning-a-view-versus-a-copy\n",
            "  \"\"\"Entry point for launching an IPython kernel.\n"
          ]
        }
      ]
    },
    {
      "cell_type": "code",
      "source": [
        "# delete the datapoints without being assigned\n",
        "incidents_owner_history= incidents_owner_history[incidents_owner_history.assigned_group != 'nan']"
      ],
      "metadata": {
        "id": "5xLT0ERRe_tt"
      },
      "execution_count": 23,
      "outputs": []
    },
    {
      "cell_type": "code",
      "source": [
        "# group the owner dataset by ticketnumber, assignedgroup and status\n",
        "import numpy as np\n",
        "f = {'assigned_group': lambda x: np.unique(x).tolist(),\n",
        "     'STATUS':lambda x: np.unique(x).tolist(),\n",
        "     }\n",
        "group = incidents_owner_history.groupby('ticket_nmbr', as_index=False).agg(f).reindex(columns=incidents_owner_history.columns)\n",
        "reassigned = group[['ticket_nmbr', 'assigned_group', 'STATUS']]\n",
        "# tickets being reassigned to more than two groups\n",
        "# reassigned = group.loc[group.assigned_group.str.len() > 1].reset_index(drop=True)"
      ],
      "metadata": {
        "id": "Kv4hvDvR9l6r"
      },
      "execution_count": 24,
      "outputs": []
    },
    {
      "cell_type": "code",
      "source": [
        "reassigned['reassignment_num'] = reassigned.assigned_group.str.len()-1"
      ],
      "metadata": {
        "id": "4nlVZIN-OvDH",
        "colab": {
          "base_uri": "https://localhost:8080/"
        },
        "outputId": "ee8d0c28-f31a-413c-be1f-0b16da50a438"
      },
      "execution_count": 25,
      "outputs": [
        {
          "output_type": "stream",
          "name": "stderr",
          "text": [
            "/usr/local/lib/python3.7/dist-packages/ipykernel_launcher.py:1: SettingWithCopyWarning: \n",
            "A value is trying to be set on a copy of a slice from a DataFrame.\n",
            "Try using .loc[row_indexer,col_indexer] = value instead\n",
            "\n",
            "See the caveats in the documentation: https://pandas.pydata.org/pandas-docs/stable/user_guide/indexing.html#returning-a-view-versus-a-copy\n",
            "  \"\"\"Entry point for launching an IPython kernel.\n"
          ]
        }
      ]
    },
    {
      "cell_type": "code",
      "source": [
        "reassigned.head()"
      ],
      "metadata": {
        "colab": {
          "base_uri": "https://localhost:8080/",
          "height": 206
        },
        "id": "TwVl6WSFhEsb",
        "outputId": "10144867-fb09-4a84-9263-4aff36778f4c"
      },
      "execution_count": 26,
      "outputs": [
        {
          "output_type": "execute_result",
          "data": {
            "text/html": [
              "\n",
              "  <div id=\"df-7f3c6091-8e55-4cd3-a01e-ce86562655d1\">\n",
              "    <div class=\"colab-df-container\">\n",
              "      <div>\n",
              "<style scoped>\n",
              "    .dataframe tbody tr th:only-of-type {\n",
              "        vertical-align: middle;\n",
              "    }\n",
              "\n",
              "    .dataframe tbody tr th {\n",
              "        vertical-align: top;\n",
              "    }\n",
              "\n",
              "    .dataframe thead th {\n",
              "        text-align: right;\n",
              "    }\n",
              "</style>\n",
              "<table border=\"1\" class=\"dataframe\">\n",
              "  <thead>\n",
              "    <tr style=\"text-align: right;\">\n",
              "      <th></th>\n",
              "      <th>ticket_nmbr</th>\n",
              "      <th>assigned_group</th>\n",
              "      <th>STATUS</th>\n",
              "      <th>reassignment_num</th>\n",
              "    </tr>\n",
              "  </thead>\n",
              "  <tbody>\n",
              "    <tr>\n",
              "      <th>0</th>\n",
              "      <td>IN10028612</td>\n",
              "      <td>[DC000152]</td>\n",
              "      <td>[QUEUED, RESOLVED]</td>\n",
              "      <td>0</td>\n",
              "    </tr>\n",
              "    <tr>\n",
              "      <th>1</th>\n",
              "      <td>IN10028613</td>\n",
              "      <td>[NDS00032]</td>\n",
              "      <td>[QUEUED, RESOLVED]</td>\n",
              "      <td>0</td>\n",
              "    </tr>\n",
              "    <tr>\n",
              "      <th>2</th>\n",
              "      <td>IN10028614</td>\n",
              "      <td>[DC000155]</td>\n",
              "      <td>[INPROG, QUEUED, RESOLVED]</td>\n",
              "      <td>0</td>\n",
              "    </tr>\n",
              "    <tr>\n",
              "      <th>3</th>\n",
              "      <td>IN10028615</td>\n",
              "      <td>[DC000133]</td>\n",
              "      <td>[INPROG, QUEUED, RESOLVED]</td>\n",
              "      <td>0</td>\n",
              "    </tr>\n",
              "    <tr>\n",
              "      <th>4</th>\n",
              "      <td>IN10028617</td>\n",
              "      <td>[DC000115]</td>\n",
              "      <td>[QUEUED, RESOLVED]</td>\n",
              "      <td>0</td>\n",
              "    </tr>\n",
              "  </tbody>\n",
              "</table>\n",
              "</div>\n",
              "      <button class=\"colab-df-convert\" onclick=\"convertToInteractive('df-7f3c6091-8e55-4cd3-a01e-ce86562655d1')\"\n",
              "              title=\"Convert this dataframe to an interactive table.\"\n",
              "              style=\"display:none;\">\n",
              "        \n",
              "  <svg xmlns=\"http://www.w3.org/2000/svg\" height=\"24px\"viewBox=\"0 0 24 24\"\n",
              "       width=\"24px\">\n",
              "    <path d=\"M0 0h24v24H0V0z\" fill=\"none\"/>\n",
              "    <path d=\"M18.56 5.44l.94 2.06.94-2.06 2.06-.94-2.06-.94-.94-2.06-.94 2.06-2.06.94zm-11 1L8.5 8.5l.94-2.06 2.06-.94-2.06-.94L8.5 2.5l-.94 2.06-2.06.94zm10 10l.94 2.06.94-2.06 2.06-.94-2.06-.94-.94-2.06-.94 2.06-2.06.94z\"/><path d=\"M17.41 7.96l-1.37-1.37c-.4-.4-.92-.59-1.43-.59-.52 0-1.04.2-1.43.59L10.3 9.45l-7.72 7.72c-.78.78-.78 2.05 0 2.83L4 21.41c.39.39.9.59 1.41.59.51 0 1.02-.2 1.41-.59l7.78-7.78 2.81-2.81c.8-.78.8-2.07 0-2.86zM5.41 20L4 18.59l7.72-7.72 1.47 1.35L5.41 20z\"/>\n",
              "  </svg>\n",
              "      </button>\n",
              "      \n",
              "  <style>\n",
              "    .colab-df-container {\n",
              "      display:flex;\n",
              "      flex-wrap:wrap;\n",
              "      gap: 12px;\n",
              "    }\n",
              "\n",
              "    .colab-df-convert {\n",
              "      background-color: #E8F0FE;\n",
              "      border: none;\n",
              "      border-radius: 50%;\n",
              "      cursor: pointer;\n",
              "      display: none;\n",
              "      fill: #1967D2;\n",
              "      height: 32px;\n",
              "      padding: 0 0 0 0;\n",
              "      width: 32px;\n",
              "    }\n",
              "\n",
              "    .colab-df-convert:hover {\n",
              "      background-color: #E2EBFA;\n",
              "      box-shadow: 0px 1px 2px rgba(60, 64, 67, 0.3), 0px 1px 3px 1px rgba(60, 64, 67, 0.15);\n",
              "      fill: #174EA6;\n",
              "    }\n",
              "\n",
              "    [theme=dark] .colab-df-convert {\n",
              "      background-color: #3B4455;\n",
              "      fill: #D2E3FC;\n",
              "    }\n",
              "\n",
              "    [theme=dark] .colab-df-convert:hover {\n",
              "      background-color: #434B5C;\n",
              "      box-shadow: 0px 1px 3px 1px rgba(0, 0, 0, 0.15);\n",
              "      filter: drop-shadow(0px 1px 2px rgba(0, 0, 0, 0.3));\n",
              "      fill: #FFFFFF;\n",
              "    }\n",
              "  </style>\n",
              "\n",
              "      <script>\n",
              "        const buttonEl =\n",
              "          document.querySelector('#df-7f3c6091-8e55-4cd3-a01e-ce86562655d1 button.colab-df-convert');\n",
              "        buttonEl.style.display =\n",
              "          google.colab.kernel.accessAllowed ? 'block' : 'none';\n",
              "\n",
              "        async function convertToInteractive(key) {\n",
              "          const element = document.querySelector('#df-7f3c6091-8e55-4cd3-a01e-ce86562655d1');\n",
              "          const dataTable =\n",
              "            await google.colab.kernel.invokeFunction('convertToInteractive',\n",
              "                                                     [key], {});\n",
              "          if (!dataTable) return;\n",
              "\n",
              "          const docLinkHtml = 'Like what you see? Visit the ' +\n",
              "            '<a target=\"_blank\" href=https://colab.research.google.com/notebooks/data_table.ipynb>data table notebook</a>'\n",
              "            + ' to learn more about interactive tables.';\n",
              "          element.innerHTML = '';\n",
              "          dataTable['output_type'] = 'display_data';\n",
              "          await google.colab.output.renderOutput(dataTable, element);\n",
              "          const docLink = document.createElement('div');\n",
              "          docLink.innerHTML = docLinkHtml;\n",
              "          element.appendChild(docLink);\n",
              "        }\n",
              "      </script>\n",
              "    </div>\n",
              "  </div>\n",
              "  "
            ],
            "text/plain": [
              "  ticket_nmbr assigned_group                      STATUS  reassignment_num\n",
              "0  IN10028612     [DC000152]          [QUEUED, RESOLVED]                 0\n",
              "1  IN10028613     [NDS00032]          [QUEUED, RESOLVED]                 0\n",
              "2  IN10028614     [DC000155]  [INPROG, QUEUED, RESOLVED]                 0\n",
              "3  IN10028615     [DC000133]  [INPROG, QUEUED, RESOLVED]                 0\n",
              "4  IN10028617     [DC000115]          [QUEUED, RESOLVED]                 0"
            ]
          },
          "metadata": {},
          "execution_count": 26
        }
      ]
    },
    {
      "cell_type": "code",
      "source": [
        "# find the attributes of the tickets being reassigned\n",
        "data = pd.merge(reassigned, incidents, on=['ticket_nmbr'])"
      ],
      "metadata": {
        "id": "iLWn6ZBcQYQp"
      },
      "execution_count": 27,
      "outputs": []
    },
    {
      "cell_type": "code",
      "source": [
        "data.to_csv('reassign_all.csv')"
      ],
      "metadata": {
        "id": "iW_7jOWtXZly"
      },
      "execution_count": 28,
      "outputs": []
    },
    {
      "cell_type": "code",
      "source": [
        "data.head()"
      ],
      "metadata": {
        "colab": {
          "base_uri": "https://localhost:8080/",
          "height": 426
        },
        "id": "bhMg3Hm10hdI",
        "outputId": "f91f4384-7b68-4c0e-d8ba-7bff74fdc867"
      },
      "execution_count": 29,
      "outputs": [
        {
          "output_type": "execute_result",
          "data": {
            "text/html": [
              "\n",
              "  <div id=\"df-b3c5b4de-6386-44e1-a485-e7452b0ed35c\">\n",
              "    <div class=\"colab-df-container\">\n",
              "      <div>\n",
              "<style scoped>\n",
              "    .dataframe tbody tr th:only-of-type {\n",
              "        vertical-align: middle;\n",
              "    }\n",
              "\n",
              "    .dataframe tbody tr th {\n",
              "        vertical-align: top;\n",
              "    }\n",
              "\n",
              "    .dataframe thead th {\n",
              "        text-align: right;\n",
              "    }\n",
              "</style>\n",
              "<table border=\"1\" class=\"dataframe\">\n",
              "  <thead>\n",
              "    <tr style=\"text-align: right;\">\n",
              "      <th></th>\n",
              "      <th>ticket_nmbr</th>\n",
              "      <th>assigned_group_x</th>\n",
              "      <th>STATUS_x</th>\n",
              "      <th>reassignment_num</th>\n",
              "      <th>PARENT_SERVICE</th>\n",
              "      <th>service</th>\n",
              "      <th>org_id</th>\n",
              "      <th>assigned_group_y</th>\n",
              "      <th>OPEN_DATE</th>\n",
              "      <th>CLOSE_DATE</th>\n",
              "      <th>PRIORITY</th>\n",
              "      <th>STATUS_y</th>\n",
              "      <th>ACTUAL_COMPLETION_HRS</th>\n",
              "      <th>BUSINESS_COMPLETION_HRS</th>\n",
              "      <th>AGING</th>\n",
              "      <th>CLASS_STRUCTURE_ID</th>\n",
              "      <th>class_structure</th>\n",
              "      <th>CLASSIFICATION_ID</th>\n",
              "      <th>classification</th>\n",
              "      <th>EXTERNAL_SYSTEM</th>\n",
              "      <th>GLOBAL_TICKET_ID</th>\n",
              "      <th>CLOSURE_CODE</th>\n",
              "      <th>LAST_MODIFIED_DATE</th>\n",
              "    </tr>\n",
              "  </thead>\n",
              "  <tbody>\n",
              "    <tr>\n",
              "      <th>0</th>\n",
              "      <td>IN10028612</td>\n",
              "      <td>[DC000152]</td>\n",
              "      <td>[QUEUED, RESOLVED]</td>\n",
              "      <td>0</td>\n",
              "      <td>Middleware</td>\n",
              "      <td>Middleware</td>\n",
              "      <td>1342.0</td>\n",
              "      <td>DC000152</td>\n",
              "      <td>01APR2016:00:01:16</td>\n",
              "      <td>01APR2016:08:26:30</td>\n",
              "      <td>Low</td>\n",
              "      <td>CLOSED</td>\n",
              "      <td>8.42</td>\n",
              "      <td>1.43</td>\n",
              "      <td>NaN</td>\n",
              "      <td>2101</td>\n",
              "      <td>IT Issue \\ Hardware</td>\n",
              "      <td>2101</td>\n",
              "      <td>Hardware Issue</td>\n",
              "      <td>EVENTMANAGEMENT</td>\n",
              "      <td>NaN</td>\n",
              "      <td>OTH</td>\n",
              "      <td>12APR2016:05:30:11</td>\n",
              "    </tr>\n",
              "    <tr>\n",
              "      <th>1</th>\n",
              "      <td>IN10028613</td>\n",
              "      <td>[NDS00032]</td>\n",
              "      <td>[QUEUED, RESOLVED]</td>\n",
              "      <td>0</td>\n",
              "      <td>Midrange</td>\n",
              "      <td>Midrange - Windows -X86</td>\n",
              "      <td>1342.0</td>\n",
              "      <td>NDS00032</td>\n",
              "      <td>01APR2016:00:35:21</td>\n",
              "      <td>11APR2016:11:06:12</td>\n",
              "      <td>Low</td>\n",
              "      <td>CLOSED</td>\n",
              "      <td>250.51</td>\n",
              "      <td>64.10</td>\n",
              "      <td>NaN</td>\n",
              "      <td>21</td>\n",
              "      <td>IT Issue</td>\n",
              "      <td>21</td>\n",
              "      <td>IT Issue</td>\n",
              "      <td>EVENTMANAGEMENT</td>\n",
              "      <td>NaN</td>\n",
              "      <td>CIS</td>\n",
              "      <td>22APR2016:05:30:33</td>\n",
              "    </tr>\n",
              "    <tr>\n",
              "      <th>2</th>\n",
              "      <td>IN10028614</td>\n",
              "      <td>[DC000155]</td>\n",
              "      <td>[INPROG, QUEUED, RESOLVED]</td>\n",
              "      <td>0</td>\n",
              "      <td>Mainframe</td>\n",
              "      <td>Mainframe</td>\n",
              "      <td>1065.0</td>\n",
              "      <td>DC000155</td>\n",
              "      <td>01APR2016:01:43:26</td>\n",
              "      <td>01APR2016:10:28:51</td>\n",
              "      <td>Low</td>\n",
              "      <td>CLOSED</td>\n",
              "      <td>8.76</td>\n",
              "      <td>3.47</td>\n",
              "      <td>NaN</td>\n",
              "      <td>3102</td>\n",
              "      <td>IT Request \\ Software Request</td>\n",
              "      <td>3102</td>\n",
              "      <td>Software Request</td>\n",
              "      <td>CREATEDFROMSR</td>\n",
              "      <td>NaN</td>\n",
              "      <td>SUP</td>\n",
              "      <td>12APR2016:05:30:09</td>\n",
              "    </tr>\n",
              "    <tr>\n",
              "      <th>3</th>\n",
              "      <td>IN10028615</td>\n",
              "      <td>[DC000133]</td>\n",
              "      <td>[INPROG, QUEUED, RESOLVED]</td>\n",
              "      <td>0</td>\n",
              "      <td>High-performance Computing</td>\n",
              "      <td>High-performance Computing</td>\n",
              "      <td>1342.0</td>\n",
              "      <td>DC000133</td>\n",
              "      <td>01APR2016:02:57:00</td>\n",
              "      <td>01APR2016:07:42:08</td>\n",
              "      <td>Low</td>\n",
              "      <td>CLOSED</td>\n",
              "      <td>4.75</td>\n",
              "      <td>0.70</td>\n",
              "      <td>NaN</td>\n",
              "      <td>3102</td>\n",
              "      <td>IT Request \\ Software Request</td>\n",
              "      <td>3102</td>\n",
              "      <td>Software Request</td>\n",
              "      <td>EVENTMANAGEMENT</td>\n",
              "      <td>NaN</td>\n",
              "      <td>OSD</td>\n",
              "      <td>12APR2016:05:30:10</td>\n",
              "    </tr>\n",
              "    <tr>\n",
              "      <th>4</th>\n",
              "      <td>IN10028617</td>\n",
              "      <td>[DC000115]</td>\n",
              "      <td>[QUEUED, RESOLVED]</td>\n",
              "      <td>0</td>\n",
              "      <td>Midrange</td>\n",
              "      <td>Midrange - Windows -X86</td>\n",
              "      <td>1342.0</td>\n",
              "      <td>DC000115</td>\n",
              "      <td>01APR2016:06:21:10</td>\n",
              "      <td>18APR2016:13:09:13</td>\n",
              "      <td>Medium</td>\n",
              "      <td>CLOSED</td>\n",
              "      <td>414.80</td>\n",
              "      <td>116.15</td>\n",
              "      <td>NaN</td>\n",
              "      <td>2101</td>\n",
              "      <td>IT Issue \\ Hardware</td>\n",
              "      <td>2101</td>\n",
              "      <td>Hardware Issue</td>\n",
              "      <td>EVENTMANAGEMENT</td>\n",
              "      <td>NaN</td>\n",
              "      <td>BSR</td>\n",
              "      <td>29APR2016:05:30:36</td>\n",
              "    </tr>\n",
              "  </tbody>\n",
              "</table>\n",
              "</div>\n",
              "      <button class=\"colab-df-convert\" onclick=\"convertToInteractive('df-b3c5b4de-6386-44e1-a485-e7452b0ed35c')\"\n",
              "              title=\"Convert this dataframe to an interactive table.\"\n",
              "              style=\"display:none;\">\n",
              "        \n",
              "  <svg xmlns=\"http://www.w3.org/2000/svg\" height=\"24px\"viewBox=\"0 0 24 24\"\n",
              "       width=\"24px\">\n",
              "    <path d=\"M0 0h24v24H0V0z\" fill=\"none\"/>\n",
              "    <path d=\"M18.56 5.44l.94 2.06.94-2.06 2.06-.94-2.06-.94-.94-2.06-.94 2.06-2.06.94zm-11 1L8.5 8.5l.94-2.06 2.06-.94-2.06-.94L8.5 2.5l-.94 2.06-2.06.94zm10 10l.94 2.06.94-2.06 2.06-.94-2.06-.94-.94-2.06-.94 2.06-2.06.94z\"/><path d=\"M17.41 7.96l-1.37-1.37c-.4-.4-.92-.59-1.43-.59-.52 0-1.04.2-1.43.59L10.3 9.45l-7.72 7.72c-.78.78-.78 2.05 0 2.83L4 21.41c.39.39.9.59 1.41.59.51 0 1.02-.2 1.41-.59l7.78-7.78 2.81-2.81c.8-.78.8-2.07 0-2.86zM5.41 20L4 18.59l7.72-7.72 1.47 1.35L5.41 20z\"/>\n",
              "  </svg>\n",
              "      </button>\n",
              "      \n",
              "  <style>\n",
              "    .colab-df-container {\n",
              "      display:flex;\n",
              "      flex-wrap:wrap;\n",
              "      gap: 12px;\n",
              "    }\n",
              "\n",
              "    .colab-df-convert {\n",
              "      background-color: #E8F0FE;\n",
              "      border: none;\n",
              "      border-radius: 50%;\n",
              "      cursor: pointer;\n",
              "      display: none;\n",
              "      fill: #1967D2;\n",
              "      height: 32px;\n",
              "      padding: 0 0 0 0;\n",
              "      width: 32px;\n",
              "    }\n",
              "\n",
              "    .colab-df-convert:hover {\n",
              "      background-color: #E2EBFA;\n",
              "      box-shadow: 0px 1px 2px rgba(60, 64, 67, 0.3), 0px 1px 3px 1px rgba(60, 64, 67, 0.15);\n",
              "      fill: #174EA6;\n",
              "    }\n",
              "\n",
              "    [theme=dark] .colab-df-convert {\n",
              "      background-color: #3B4455;\n",
              "      fill: #D2E3FC;\n",
              "    }\n",
              "\n",
              "    [theme=dark] .colab-df-convert:hover {\n",
              "      background-color: #434B5C;\n",
              "      box-shadow: 0px 1px 3px 1px rgba(0, 0, 0, 0.15);\n",
              "      filter: drop-shadow(0px 1px 2px rgba(0, 0, 0, 0.3));\n",
              "      fill: #FFFFFF;\n",
              "    }\n",
              "  </style>\n",
              "\n",
              "      <script>\n",
              "        const buttonEl =\n",
              "          document.querySelector('#df-b3c5b4de-6386-44e1-a485-e7452b0ed35c button.colab-df-convert');\n",
              "        buttonEl.style.display =\n",
              "          google.colab.kernel.accessAllowed ? 'block' : 'none';\n",
              "\n",
              "        async function convertToInteractive(key) {\n",
              "          const element = document.querySelector('#df-b3c5b4de-6386-44e1-a485-e7452b0ed35c');\n",
              "          const dataTable =\n",
              "            await google.colab.kernel.invokeFunction('convertToInteractive',\n",
              "                                                     [key], {});\n",
              "          if (!dataTable) return;\n",
              "\n",
              "          const docLinkHtml = 'Like what you see? Visit the ' +\n",
              "            '<a target=\"_blank\" href=https://colab.research.google.com/notebooks/data_table.ipynb>data table notebook</a>'\n",
              "            + ' to learn more about interactive tables.';\n",
              "          element.innerHTML = '';\n",
              "          dataTable['output_type'] = 'display_data';\n",
              "          await google.colab.output.renderOutput(dataTable, element);\n",
              "          const docLink = document.createElement('div');\n",
              "          docLink.innerHTML = docLinkHtml;\n",
              "          element.appendChild(docLink);\n",
              "        }\n",
              "      </script>\n",
              "    </div>\n",
              "  </div>\n",
              "  "
            ],
            "text/plain": [
              "  ticket_nmbr assigned_group_x  ... CLOSURE_CODE  LAST_MODIFIED_DATE\n",
              "0  IN10028612       [DC000152]  ...          OTH  12APR2016:05:30:11\n",
              "1  IN10028613       [NDS00032]  ...          CIS  22APR2016:05:30:33\n",
              "2  IN10028614       [DC000155]  ...          SUP  12APR2016:05:30:09\n",
              "3  IN10028615       [DC000133]  ...          OSD  12APR2016:05:30:10\n",
              "4  IN10028617       [DC000115]  ...          BSR  29APR2016:05:30:36\n",
              "\n",
              "[5 rows x 23 columns]"
            ]
          },
          "metadata": {},
          "execution_count": 29
        }
      ]
    },
    {
      "cell_type": "code",
      "source": [
        "group_status_hr = incidents[['assigned_group', 'STATUS', 'ACTUAL_COMPLETION_HRS', 'BUSINESS_COMPLETION_HRS']]\n",
        "group_status_hr.head()"
      ],
      "metadata": {
        "colab": {
          "base_uri": "https://localhost:8080/",
          "height": 206
        },
        "id": "g3GcW4h9NFrG",
        "outputId": "538b2dc2-b71c-418a-9695-9347e6dd95d7"
      },
      "execution_count": 31,
      "outputs": [
        {
          "output_type": "execute_result",
          "data": {
            "text/html": [
              "\n",
              "  <div id=\"df-6f65fbb4-3dc8-46e6-ae3b-f11ac40c95be\">\n",
              "    <div class=\"colab-df-container\">\n",
              "      <div>\n",
              "<style scoped>\n",
              "    .dataframe tbody tr th:only-of-type {\n",
              "        vertical-align: middle;\n",
              "    }\n",
              "\n",
              "    .dataframe tbody tr th {\n",
              "        vertical-align: top;\n",
              "    }\n",
              "\n",
              "    .dataframe thead th {\n",
              "        text-align: right;\n",
              "    }\n",
              "</style>\n",
              "<table border=\"1\" class=\"dataframe\">\n",
              "  <thead>\n",
              "    <tr style=\"text-align: right;\">\n",
              "      <th></th>\n",
              "      <th>assigned_group</th>\n",
              "      <th>STATUS</th>\n",
              "      <th>ACTUAL_COMPLETION_HRS</th>\n",
              "      <th>BUSINESS_COMPLETION_HRS</th>\n",
              "    </tr>\n",
              "  </thead>\n",
              "  <tbody>\n",
              "    <tr>\n",
              "      <th>0</th>\n",
              "      <td>DC000152</td>\n",
              "      <td>CLOSED</td>\n",
              "      <td>8.42</td>\n",
              "      <td>1.43</td>\n",
              "    </tr>\n",
              "    <tr>\n",
              "      <th>1</th>\n",
              "      <td>NDS00032</td>\n",
              "      <td>CLOSED</td>\n",
              "      <td>250.51</td>\n",
              "      <td>64.10</td>\n",
              "    </tr>\n",
              "    <tr>\n",
              "      <th>2</th>\n",
              "      <td>DC000155</td>\n",
              "      <td>CLOSED</td>\n",
              "      <td>8.76</td>\n",
              "      <td>3.47</td>\n",
              "    </tr>\n",
              "    <tr>\n",
              "      <th>3</th>\n",
              "      <td>DC000133</td>\n",
              "      <td>CLOSED</td>\n",
              "      <td>4.75</td>\n",
              "      <td>0.70</td>\n",
              "    </tr>\n",
              "    <tr>\n",
              "      <th>4</th>\n",
              "      <td>NaN</td>\n",
              "      <td>CLOSED</td>\n",
              "      <td>0.04</td>\n",
              "      <td>0.00</td>\n",
              "    </tr>\n",
              "  </tbody>\n",
              "</table>\n",
              "</div>\n",
              "      <button class=\"colab-df-convert\" onclick=\"convertToInteractive('df-6f65fbb4-3dc8-46e6-ae3b-f11ac40c95be')\"\n",
              "              title=\"Convert this dataframe to an interactive table.\"\n",
              "              style=\"display:none;\">\n",
              "        \n",
              "  <svg xmlns=\"http://www.w3.org/2000/svg\" height=\"24px\"viewBox=\"0 0 24 24\"\n",
              "       width=\"24px\">\n",
              "    <path d=\"M0 0h24v24H0V0z\" fill=\"none\"/>\n",
              "    <path d=\"M18.56 5.44l.94 2.06.94-2.06 2.06-.94-2.06-.94-.94-2.06-.94 2.06-2.06.94zm-11 1L8.5 8.5l.94-2.06 2.06-.94-2.06-.94L8.5 2.5l-.94 2.06-2.06.94zm10 10l.94 2.06.94-2.06 2.06-.94-2.06-.94-.94-2.06-.94 2.06-2.06.94z\"/><path d=\"M17.41 7.96l-1.37-1.37c-.4-.4-.92-.59-1.43-.59-.52 0-1.04.2-1.43.59L10.3 9.45l-7.72 7.72c-.78.78-.78 2.05 0 2.83L4 21.41c.39.39.9.59 1.41.59.51 0 1.02-.2 1.41-.59l7.78-7.78 2.81-2.81c.8-.78.8-2.07 0-2.86zM5.41 20L4 18.59l7.72-7.72 1.47 1.35L5.41 20z\"/>\n",
              "  </svg>\n",
              "      </button>\n",
              "      \n",
              "  <style>\n",
              "    .colab-df-container {\n",
              "      display:flex;\n",
              "      flex-wrap:wrap;\n",
              "      gap: 12px;\n",
              "    }\n",
              "\n",
              "    .colab-df-convert {\n",
              "      background-color: #E8F0FE;\n",
              "      border: none;\n",
              "      border-radius: 50%;\n",
              "      cursor: pointer;\n",
              "      display: none;\n",
              "      fill: #1967D2;\n",
              "      height: 32px;\n",
              "      padding: 0 0 0 0;\n",
              "      width: 32px;\n",
              "    }\n",
              "\n",
              "    .colab-df-convert:hover {\n",
              "      background-color: #E2EBFA;\n",
              "      box-shadow: 0px 1px 2px rgba(60, 64, 67, 0.3), 0px 1px 3px 1px rgba(60, 64, 67, 0.15);\n",
              "      fill: #174EA6;\n",
              "    }\n",
              "\n",
              "    [theme=dark] .colab-df-convert {\n",
              "      background-color: #3B4455;\n",
              "      fill: #D2E3FC;\n",
              "    }\n",
              "\n",
              "    [theme=dark] .colab-df-convert:hover {\n",
              "      background-color: #434B5C;\n",
              "      box-shadow: 0px 1px 3px 1px rgba(0, 0, 0, 0.15);\n",
              "      filter: drop-shadow(0px 1px 2px rgba(0, 0, 0, 0.3));\n",
              "      fill: #FFFFFF;\n",
              "    }\n",
              "  </style>\n",
              "\n",
              "      <script>\n",
              "        const buttonEl =\n",
              "          document.querySelector('#df-6f65fbb4-3dc8-46e6-ae3b-f11ac40c95be button.colab-df-convert');\n",
              "        buttonEl.style.display =\n",
              "          google.colab.kernel.accessAllowed ? 'block' : 'none';\n",
              "\n",
              "        async function convertToInteractive(key) {\n",
              "          const element = document.querySelector('#df-6f65fbb4-3dc8-46e6-ae3b-f11ac40c95be');\n",
              "          const dataTable =\n",
              "            await google.colab.kernel.invokeFunction('convertToInteractive',\n",
              "                                                     [key], {});\n",
              "          if (!dataTable) return;\n",
              "\n",
              "          const docLinkHtml = 'Like what you see? Visit the ' +\n",
              "            '<a target=\"_blank\" href=https://colab.research.google.com/notebooks/data_table.ipynb>data table notebook</a>'\n",
              "            + ' to learn more about interactive tables.';\n",
              "          element.innerHTML = '';\n",
              "          dataTable['output_type'] = 'display_data';\n",
              "          await google.colab.output.renderOutput(dataTable, element);\n",
              "          const docLink = document.createElement('div');\n",
              "          docLink.innerHTML = docLinkHtml;\n",
              "          element.appendChild(docLink);\n",
              "        }\n",
              "      </script>\n",
              "    </div>\n",
              "  </div>\n",
              "  "
            ],
            "text/plain": [
              "  assigned_group  STATUS  ACTUAL_COMPLETION_HRS  BUSINESS_COMPLETION_HRS\n",
              "0       DC000152  CLOSED                   8.42                     1.43\n",
              "1       NDS00032  CLOSED                 250.51                    64.10\n",
              "2       DC000155  CLOSED                   8.76                     3.47\n",
              "3       DC000133  CLOSED                   4.75                     0.70\n",
              "4            NaN  CLOSED                   0.04                     0.00"
            ]
          },
          "metadata": {},
          "execution_count": 31
        }
      ]
    },
    {
      "cell_type": "code",
      "source": [
        "# library to calculate the correlation between categorical and numerical data\n",
        "!pip install dython"
      ],
      "metadata": {
        "id": "MD3YFzVDR6hT"
      },
      "execution_count": null,
      "outputs": []
    },
    {
      "cell_type": "code",
      "source": [
        "from dython.nominal import associations\n",
        "from dython.nominal import identify_nominal_columns"
      ],
      "metadata": {
        "id": "UbSse5RWR7v3"
      },
      "execution_count": 33,
      "outputs": []
    },
    {
      "cell_type": "code",
      "source": [
        "group_status_hr_cor= associations(group_status_hr, filename= 'group_status_hr_correlation.png', figsize=(10,10))"
      ],
      "metadata": {
        "colab": {
          "base_uri": "https://localhost:8080/",
          "height": 682
        },
        "id": "4CkRm4mQSZyO",
        "outputId": "19fb6c18-bb11-4660-e0ac-aeb4c108a2d2"
      },
      "execution_count": 34,
      "outputs": [
        {
          "output_type": "display_data",
          "data": {
            "image/png": "[encoded data removed]",
            "text/plain": [
              "<Figure size 720x720 with 2 Axes>"
            ]
          },
          "metadata": {
            "needs_background": "light"
          }
        }
      ]
    },
    {
      "cell_type": "code",
      "source": [
        "service_hr = incidents[['PARENT_SERVICE', 'service', 'ACTUAL_COMPLETION_HRS', 'BUSINESS_COMPLETION_HRS']]\n",
        "service_hr.head()"
      ],
      "metadata": {
        "colab": {
          "base_uri": "https://localhost:8080/",
          "height": 206
        },
        "id": "NuV4xEq2Y79Y",
        "outputId": "070ee585-90bb-4c15-e23f-246e0b473314"
      },
      "execution_count": 35,
      "outputs": [
        {
          "output_type": "execute_result",
          "data": {
            "text/html": [
              "\n",
              "  <div id=\"df-6bdbd847-7471-49d3-b466-070b8e96684c\">\n",
              "    <div class=\"colab-df-container\">\n",
              "      <div>\n",
              "<style scoped>\n",
              "    .dataframe tbody tr th:only-of-type {\n",
              "        vertical-align: middle;\n",
              "    }\n",
              "\n",
              "    .dataframe tbody tr th {\n",
              "        vertical-align: top;\n",
              "    }\n",
              "\n",
              "    .dataframe thead th {\n",
              "        text-align: right;\n",
              "    }\n",
              "</style>\n",
              "<table border=\"1\" class=\"dataframe\">\n",
              "  <thead>\n",
              "    <tr style=\"text-align: right;\">\n",
              "      <th></th>\n",
              "      <th>PARENT_SERVICE</th>\n",
              "      <th>service</th>\n",
              "      <th>ACTUAL_COMPLETION_HRS</th>\n",
              "      <th>BUSINESS_COMPLETION_HRS</th>\n",
              "    </tr>\n",
              "  </thead>\n",
              "  <tbody>\n",
              "    <tr>\n",
              "      <th>0</th>\n",
              "      <td>Middleware</td>\n",
              "      <td>Middleware</td>\n",
              "      <td>8.42</td>\n",
              "      <td>1.43</td>\n",
              "    </tr>\n",
              "    <tr>\n",
              "      <th>1</th>\n",
              "      <td>Midrange</td>\n",
              "      <td>Midrange - Windows -X86</td>\n",
              "      <td>250.51</td>\n",
              "      <td>64.10</td>\n",
              "    </tr>\n",
              "    <tr>\n",
              "      <th>2</th>\n",
              "      <td>Mainframe</td>\n",
              "      <td>Mainframe</td>\n",
              "      <td>8.76</td>\n",
              "      <td>3.47</td>\n",
              "    </tr>\n",
              "    <tr>\n",
              "      <th>3</th>\n",
              "      <td>High-performance Computing</td>\n",
              "      <td>High-performance Computing</td>\n",
              "      <td>4.75</td>\n",
              "      <td>0.70</td>\n",
              "    </tr>\n",
              "    <tr>\n",
              "      <th>4</th>\n",
              "      <td>NaN</td>\n",
              "      <td>-1</td>\n",
              "      <td>0.04</td>\n",
              "      <td>0.00</td>\n",
              "    </tr>\n",
              "  </tbody>\n",
              "</table>\n",
              "</div>\n",
              "      <button class=\"colab-df-convert\" onclick=\"convertToInteractive('df-6bdbd847-7471-49d3-b466-070b8e96684c')\"\n",
              "              title=\"Convert this dataframe to an interactive table.\"\n",
              "              style=\"display:none;\">\n",
              "        \n",
              "  <svg xmlns=\"http://www.w3.org/2000/svg\" height=\"24px\"viewBox=\"0 0 24 24\"\n",
              "       width=\"24px\">\n",
              "    <path d=\"M0 0h24v24H0V0z\" fill=\"none\"/>\n",
              "    <path d=\"M18.56 5.44l.94 2.06.94-2.06 2.06-.94-2.06-.94-.94-2.06-.94 2.06-2.06.94zm-11 1L8.5 8.5l.94-2.06 2.06-.94-2.06-.94L8.5 2.5l-.94 2.06-2.06.94zm10 10l.94 2.06.94-2.06 2.06-.94-2.06-.94-.94-2.06-.94 2.06-2.06.94z\"/><path d=\"M17.41 7.96l-1.37-1.37c-.4-.4-.92-.59-1.43-.59-.52 0-1.04.2-1.43.59L10.3 9.45l-7.72 7.72c-.78.78-.78 2.05 0 2.83L4 21.41c.39.39.9.59 1.41.59.51 0 1.02-.2 1.41-.59l7.78-7.78 2.81-2.81c.8-.78.8-2.07 0-2.86zM5.41 20L4 18.59l7.72-7.72 1.47 1.35L5.41 20z\"/>\n",
              "  </svg>\n",
              "      </button>\n",
              "      \n",
              "  <style>\n",
              "    .colab-df-container {\n",
              "      display:flex;\n",
              "      flex-wrap:wrap;\n",
              "      gap: 12px;\n",
              "    }\n",
              "\n",
              "    .colab-df-convert {\n",
              "      background-color: #E8F0FE;\n",
              "      border: none;\n",
              "      border-radius: 50%;\n",
              "      cursor: pointer;\n",
              "      display: none;\n",
              "      fill: #1967D2;\n",
              "      height: 32px;\n",
              "      padding: 0 0 0 0;\n",
              "      width: 32px;\n",
              "    }\n",
              "\n",
              "    .colab-df-convert:hover {\n",
              "      background-color: #E2EBFA;\n",
              "      box-shadow: 0px 1px 2px rgba(60, 64, 67, 0.3), 0px 1px 3px 1px rgba(60, 64, 67, 0.15);\n",
              "      fill: #174EA6;\n",
              "    }\n",
              "\n",
              "    [theme=dark] .colab-df-convert {\n",
              "      background-color: #3B4455;\n",
              "      fill: #D2E3FC;\n",
              "    }\n",
              "\n",
              "    [theme=dark] .colab-df-convert:hover {\n",
              "      background-color: #434B5C;\n",
              "      box-shadow: 0px 1px 3px 1px rgba(0, 0, 0, 0.15);\n",
              "      filter: drop-shadow(0px 1px 2px rgba(0, 0, 0, 0.3));\n",
              "      fill: #FFFFFF;\n",
              "    }\n",
              "  </style>\n",
              "\n",
              "      <script>\n",
              "        const buttonEl =\n",
              "          document.querySelector('#df-6bdbd847-7471-49d3-b466-070b8e96684c button.colab-df-convert');\n",
              "        buttonEl.style.display =\n",
              "          google.colab.kernel.accessAllowed ? 'block' : 'none';\n",
              "\n",
              "        async function convertToInteractive(key) {\n",
              "          const element = document.querySelector('#df-6bdbd847-7471-49d3-b466-070b8e96684c');\n",
              "          const dataTable =\n",
              "            await google.colab.kernel.invokeFunction('convertToInteractive',\n",
              "                                                     [key], {});\n",
              "          if (!dataTable) return;\n",
              "\n",
              "          const docLinkHtml = 'Like what you see? Visit the ' +\n",
              "            '<a target=\"_blank\" href=https://colab.research.google.com/notebooks/data_table.ipynb>data table notebook</a>'\n",
              "            + ' to learn more about interactive tables.';\n",
              "          element.innerHTML = '';\n",
              "          dataTable['output_type'] = 'display_data';\n",
              "          await google.colab.output.renderOutput(dataTable, element);\n",
              "          const docLink = document.createElement('div');\n",
              "          docLink.innerHTML = docLinkHtml;\n",
              "          element.appendChild(docLink);\n",
              "        }\n",
              "      </script>\n",
              "    </div>\n",
              "  </div>\n",
              "  "
            ],
            "text/plain": [
              "               PARENT_SERVICE  ... BUSINESS_COMPLETION_HRS\n",
              "0                  Middleware  ...                    1.43\n",
              "1                    Midrange  ...                   64.10\n",
              "2                   Mainframe  ...                    3.47\n",
              "3  High-performance Computing  ...                    0.70\n",
              "4                         NaN  ...                    0.00\n",
              "\n",
              "[5 rows x 4 columns]"
            ]
          },
          "metadata": {},
          "execution_count": 35
        }
      ]
    },
    {
      "cell_type": "code",
      "source": [
        "service_hr_cor= associations(service_hr, filename= 'service_hr_correlation.png', figsize=(10,10))"
      ],
      "metadata": {
        "colab": {
          "base_uri": "https://localhost:8080/",
          "height": 682
        },
        "id": "FSOobY8lZICe",
        "outputId": "ed11cb55-a009-412d-fd27-ad9cc24ec3b3"
      },
      "execution_count": 36,
      "outputs": [
        {
          "output_type": "display_data",
          "data": {
            "image/png": "[encoded data removed]",
            "text/plain": [
              "<Figure size 720x720 with 2 Axes>"
            ]
          },
          "metadata": {
            "needs_background": "light"
          }
        }
      ]
    }
  ]
}