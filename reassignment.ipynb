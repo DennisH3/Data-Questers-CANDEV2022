{
 "cells": [
  {
   "cell_type": "code",
   "execution_count": 1,
   "metadata": {
    "colab": {
     "base_uri": "https://localhost:8080/"
    },
    "id": "PTXIBxXXqlJa",
    "outputId": "8382d2d4-3f39-4295-91eb-e8ab2ba16bd2"
   },
   "outputs": [
    {
     "name": "stdout",
     "output_type": "stream",
     "text": [
      "\u001b[0m\u001b[01;34mdrive\u001b[0m/  \u001b[01;34msample_data\u001b[0m/\n"
     ]
    }
   ],
   "source": [
    "ls"
   ]
  },
  {
   "cell_type": "code",
   "execution_count": 2,
   "metadata": {
    "colab": {
     "base_uri": "https://localhost:8080/"
    },
    "id": "_aPh-mCorQ6H",
    "outputId": "64bcdc4e-ef83-4142-d479-651680316e95"
   },
   "outputs": [
    {
     "name": "stdout",
     "output_type": "stream",
     "text": [
      "/content/drive/MyDrive/CANDEV2022\n"
     ]
    }
   ],
   "source": [
    "cd drive/MyDrive/CANDEV2022"
   ]
  },
  {
   "cell_type": "code",
   "execution_count": 3,
   "metadata": {
    "colab": {
     "base_uri": "https://localhost:8080/"
    },
    "id": "ashA7EJ8rUZt",
    "outputId": "b00c4305-c6f7-4a1d-b3b9-1f2237a344fc"
   },
   "outputs": [
    {
     "name": "stderr",
     "output_type": "stream",
     "text": [
      "/usr/local/lib/python3.7/dist-packages/IPython/core/interactiveshell.py:2882: DtypeWarning: Columns (12) have mixed types.Specify dtype option on import or set low_memory=False.\n",
      "  exec(code_obj, self.user_global_ns, self.user_ns)\n",
      "/usr/local/lib/python3.7/dist-packages/IPython/core/interactiveshell.py:2882: DtypeWarning: Columns (2) have mixed types.Specify dtype option on import or set low_memory=False.\n",
      "  exec(code_obj, self.user_global_ns, self.user_ns)\n"
     ]
    }
   ],
   "source": [
    "import pandas as pd\n",
    "incidents = pd.read_csv('INCIDENTS.csv')\n",
    "incidents_history = pd.read_csv('INCIDENT_HISTORY.csv')\n",
    "incidents_owner_history = pd.read_csv('INCIDENT_OWNER_HISTORY.csv')"
   ]
  },
  {
   "cell_type": "code",
   "execution_count": 4,
   "metadata": {
    "id": "8CWNzHr_R9ce"
   },
   "outputs": [],
   "source": [
    "# delete all datapoints without ticket number\n",
    "incidents = incidents[~incidents['TICKET_NMBR'].isnull()]\n",
    "incidents_history = incidents_history[~incidents_history['ticket_nmbr'].isnull()]\n",
    "incidents_owner_history = incidents_owner_history[~incidents_owner_history['ticket_nmbr'].isnull()]"
   ]
  },
  {
   "cell_type": "code",
   "execution_count": 5,
   "metadata": {
    "id": "N19-MTIo6GoU"
   },
   "outputs": [],
   "source": [
    "# Closed status is not important, delete it\n",
    "incidents_owner_history = incidents_owner_history[incidents_owner_history.STATUS != 'CLOSED']"
   ]
  },
  {
   "cell_type": "code",
   "execution_count": 6,
   "metadata": {
    "id": "yaUTS-lQEPU3"
   },
   "outputs": [],
   "source": [
    "incidents_owner_history['assigned_group']=incidents_owner_history['assigned_group'].astype('str')"
   ]
  },
  {
   "cell_type": "code",
   "execution_count": 7,
   "metadata": {
    "id": "5xLT0ERRe_tt"
   },
   "outputs": [],
   "source": [
    "# delete the datapoints without being assigned\n",
    "incidents_owner_history= incidents_owner_history[incidents_owner_history.assigned_group != 'nan']"
   ]
  },
  {
   "cell_type": "code",
   "execution_count": 8,
   "metadata": {
    "id": "Kv4hvDvR9l6r"
   },
   "outputs": [],
   "source": [
    "# group the owner dataset by ticketnumber, assignedgroup and status\n",
    "import numpy as np\n",
    "f = {'assigned_group': lambda x: np.unique(x).tolist(),\n",
    "     'STATUS':lambda x: np.unique(x).tolist(),\n",
    "     }\n",
    "group = incidents_owner_history.groupby('ticket_nmbr', as_index=False).agg(f).reindex(columns=incidents_owner_history.columns)\n",
    "group = group[['ticket_nmbr', 'assigned_group', 'STATUS']]\n",
    "# tickets being reassigned to more than two groups\n",
    "reassigned = group.loc[group.assigned_group.str.len() > 1].reset_index(drop=True)"
   ]
  },
  {
   "cell_type": "code",
   "execution_count": 9,
   "metadata": {
    "colab": {
     "base_uri": "https://localhost:8080/"
    },
    "id": "S5GpIDktOdHc",
    "outputId": "983549a6-7fef-4768-a6e2-111be919814c"
   },
   "outputs": [
    {
     "name": "stdout",
     "output_type": "stream",
     "text": [
      "Not reassigned: 166850\n",
      "Reassigned: 58639\n"
     ]
    }
   ],
   "source": [
    "print(\"Not reassigned:\", len(group) - len(reassigned))\n",
    "print(\"Reassigned:\", len(reassigned))"
   ]
  },
  {
   "cell_type": "code",
   "execution_count": 14,
   "metadata": {
    "id": "4nlVZIN-OvDH"
   },
   "outputs": [],
   "source": [
    "reassigned['reassignment_num'] = reassigned.assigned_group.str.len()-1"
   ]
  },
  {
   "cell_type": "code",
   "execution_count": 15,
   "metadata": {
    "colab": {
     "base_uri": "https://localhost:8080/",
     "height": 423
    },
    "id": "TwVl6WSFhEsb",
    "outputId": "73c36f02-47fd-4cd3-c206-21a4490c2bae"
   },
   "outputs": [
    {
     "data": {
      "text/html": [
       "\n",
       "  <div id=\"df-a0a4c1e6-f416-4617-9239-28004c6f8d2b\">\n",
       "    <div class=\"colab-df-container\">\n",
       "      <div>\n",
       "<style scoped>\n",
       "    .dataframe tbody tr th:only-of-type {\n",
       "        vertical-align: middle;\n",
       "    }\n",
       "\n",
       "    .dataframe tbody tr th {\n",
       "        vertical-align: top;\n",
       "    }\n",
       "\n",
       "    .dataframe thead th {\n",
       "        text-align: right;\n",
       "    }\n",
       "</style>\n",
       "<table border=\"1\" class=\"dataframe\">\n",
       "  <thead>\n",
       "    <tr style=\"text-align: right;\">\n",
       "      <th></th>\n",
       "      <th>ticket_nmbr</th>\n",
       "      <th>assigned_group</th>\n",
       "      <th>STATUS</th>\n",
       "      <th>reassignment_num</th>\n",
       "    </tr>\n",
       "  </thead>\n",
       "  <tbody>\n",
       "    <tr>\n",
       "      <th>0</th>\n",
       "      <td>IN10028618</td>\n",
       "      <td>[DC000152, EDC00029, ESI00011, ESI00045]</td>\n",
       "      <td>[INPROG, QUEUED, RESOLVED]</td>\n",
       "      <td>3</td>\n",
       "    </tr>\n",
       "    <tr>\n",
       "      <th>1</th>\n",
       "      <td>IN10028628</td>\n",
       "      <td>[DC000152, EDC00029]</td>\n",
       "      <td>[QUEUED, RESOLVED]</td>\n",
       "      <td>1</td>\n",
       "    </tr>\n",
       "    <tr>\n",
       "      <th>2</th>\n",
       "      <td>IN10028629</td>\n",
       "      <td>[DC000113, DC000115]</td>\n",
       "      <td>[QUEUED, RESOLVED]</td>\n",
       "      <td>1</td>\n",
       "    </tr>\n",
       "    <tr>\n",
       "      <th>3</th>\n",
       "      <td>IN10028648</td>\n",
       "      <td>[NW000403, NW000417]</td>\n",
       "      <td>[QUEUED, RESOLVED]</td>\n",
       "      <td>1</td>\n",
       "    </tr>\n",
       "    <tr>\n",
       "      <th>4</th>\n",
       "      <td>IN10028651</td>\n",
       "      <td>[EDC00002, ESI00043]</td>\n",
       "      <td>[QUEUED, RESOLVED]</td>\n",
       "      <td>1</td>\n",
       "    </tr>\n",
       "    <tr>\n",
       "      <th>...</th>\n",
       "      <td>...</td>\n",
       "      <td>...</td>\n",
       "      <td>...</td>\n",
       "      <td>...</td>\n",
       "    </tr>\n",
       "    <tr>\n",
       "      <th>58634</th>\n",
       "      <td>IN10293533</td>\n",
       "      <td>[DC000203, DC000236, ESI00011]</td>\n",
       "      <td>[QUEUED, RESOLVED]</td>\n",
       "      <td>2</td>\n",
       "    </tr>\n",
       "    <tr>\n",
       "      <th>58635</th>\n",
       "      <td>IN10293538</td>\n",
       "      <td>[DC000152, SM000562]</td>\n",
       "      <td>[INPROG, QUEUED, RESOLVED]</td>\n",
       "      <td>1</td>\n",
       "    </tr>\n",
       "    <tr>\n",
       "      <th>58636</th>\n",
       "      <td>IN10293549</td>\n",
       "      <td>[ESI00011, ITS00379]</td>\n",
       "      <td>[QUEUED, RESOLVED]</td>\n",
       "      <td>1</td>\n",
       "    </tr>\n",
       "    <tr>\n",
       "      <th>58637</th>\n",
       "      <td>IN10293552</td>\n",
       "      <td>[DC000155, SM000562]</td>\n",
       "      <td>[INPROG, QUEUED, RESOLVED]</td>\n",
       "      <td>1</td>\n",
       "    </tr>\n",
       "    <tr>\n",
       "      <th>58638</th>\n",
       "      <td>IN10293555</td>\n",
       "      <td>[DC000128, DC000250]</td>\n",
       "      <td>[QUEUED]</td>\n",
       "      <td>1</td>\n",
       "    </tr>\n",
       "  </tbody>\n",
       "</table>\n",
       "<p>58639 rows × 4 columns</p>\n",
       "</div>\n",
       "      <button class=\"colab-df-convert\" onclick=\"convertToInteractive('df-a0a4c1e6-f416-4617-9239-28004c6f8d2b')\"\n",
       "              title=\"Convert this dataframe to an interactive table.\"\n",
       "              style=\"display:none;\">\n",
       "        \n",
       "  <svg xmlns=\"http://www.w3.org/2000/svg\" height=\"24px\"viewBox=\"0 0 24 24\"\n",
       "       width=\"24px\">\n",
       "    <path d=\"M0 0h24v24H0V0z\" fill=\"none\"/>\n",
       "    <path d=\"M18.56 5.44l.94 2.06.94-2.06 2.06-.94-2.06-.94-.94-2.06-.94 2.06-2.06.94zm-11 1L8.5 8.5l.94-2.06 2.06-.94-2.06-.94L8.5 2.5l-.94 2.06-2.06.94zm10 10l.94 2.06.94-2.06 2.06-.94-2.06-.94-.94-2.06-.94 2.06-2.06.94z\"/><path d=\"M17.41 7.96l-1.37-1.37c-.4-.4-.92-.59-1.43-.59-.52 0-1.04.2-1.43.59L10.3 9.45l-7.72 7.72c-.78.78-.78 2.05 0 2.83L4 21.41c.39.39.9.59 1.41.59.51 0 1.02-.2 1.41-.59l7.78-7.78 2.81-2.81c.8-.78.8-2.07 0-2.86zM5.41 20L4 18.59l7.72-7.72 1.47 1.35L5.41 20z\"/>\n",
       "  </svg>\n",
       "      </button>\n",
       "      \n",
       "  <style>\n",
       "    .colab-df-container {\n",
       "      display:flex;\n",
       "      flex-wrap:wrap;\n",
       "      gap: 12px;\n",
       "    }\n",
       "\n",
       "    .colab-df-convert {\n",
       "      background-color: #E8F0FE;\n",
       "      border: none;\n",
       "      border-radius: 50%;\n",
       "      cursor: pointer;\n",
       "      display: none;\n",
       "      fill: #1967D2;\n",
       "      height: 32px;\n",
       "      padding: 0 0 0 0;\n",
       "      width: 32px;\n",
       "    }\n",
       "\n",
       "    .colab-df-convert:hover {\n",
       "      background-color: #E2EBFA;\n",
       "      box-shadow: 0px 1px 2px rgba(60, 64, 67, 0.3), 0px 1px 3px 1px rgba(60, 64, 67, 0.15);\n",
       "      fill: #174EA6;\n",
       "    }\n",
       "\n",
       "    [theme=dark] .colab-df-convert {\n",
       "      background-color: #3B4455;\n",
       "      fill: #D2E3FC;\n",
       "    }\n",
       "\n",
       "    [theme=dark] .colab-df-convert:hover {\n",
       "      background-color: #434B5C;\n",
       "      box-shadow: 0px 1px 3px 1px rgba(0, 0, 0, 0.15);\n",
       "      filter: drop-shadow(0px 1px 2px rgba(0, 0, 0, 0.3));\n",
       "      fill: #FFFFFF;\n",
       "    }\n",
       "  </style>\n",
       "\n",
       "      <script>\n",
       "        const buttonEl =\n",
       "          document.querySelector('#df-a0a4c1e6-f416-4617-9239-28004c6f8d2b button.colab-df-convert');\n",
       "        buttonEl.style.display =\n",
       "          google.colab.kernel.accessAllowed ? 'block' : 'none';\n",
       "\n",
       "        async function convertToInteractive(key) {\n",
       "          const element = document.querySelector('#df-a0a4c1e6-f416-4617-9239-28004c6f8d2b');\n",
       "          const dataTable =\n",
       "            await google.colab.kernel.invokeFunction('convertToInteractive',\n",
       "                                                     [key], {});\n",
       "          if (!dataTable) return;\n",
       "\n",
       "          const docLinkHtml = 'Like what you see? Visit the ' +\n",
       "            '<a target=\"_blank\" href=https://colab.research.google.com/notebooks/data_table.ipynb>data table notebook</a>'\n",
       "            + ' to learn more about interactive tables.';\n",
       "          element.innerHTML = '';\n",
       "          dataTable['output_type'] = 'display_data';\n",
       "          await google.colab.output.renderOutput(dataTable, element);\n",
       "          const docLink = document.createElement('div');\n",
       "          docLink.innerHTML = docLinkHtml;\n",
       "          element.appendChild(docLink);\n",
       "        }\n",
       "      </script>\n",
       "    </div>\n",
       "  </div>\n",
       "  "
      ],
      "text/plain": [
       "      ticket_nmbr  ... reassignment_num\n",
       "0      IN10028618  ...                3\n",
       "1      IN10028628  ...                1\n",
       "2      IN10028629  ...                1\n",
       "3      IN10028648  ...                1\n",
       "4      IN10028651  ...                1\n",
       "...           ...  ...              ...\n",
       "58634  IN10293533  ...                2\n",
       "58635  IN10293538  ...                1\n",
       "58636  IN10293549  ...                1\n",
       "58637  IN10293552  ...                1\n",
       "58638  IN10293555  ...                1\n",
       "\n",
       "[58639 rows x 4 columns]"
      ]
     },
     "execution_count": 15,
     "metadata": {},
     "output_type": "execute_result"
    }
   ],
   "source": [
    "reassigned"
   ]
  },
  {
   "cell_type": "code",
   "execution_count": 16,
   "metadata": {
    "id": "iLWn6ZBcQYQp"
   },
   "outputs": [],
   "source": [
    "# find the attributes of the tickets being reassigned\n",
    "data = pd.merge(reassigned, incidents_owner_history, on=['ticket_nmbr'])"
   ]
  },
  {
   "cell_type": "code",
   "execution_count": 17,
   "metadata": {
    "id": "iW_7jOWtXZly"
   },
   "outputs": [],
   "source": [
    "data.to_csv('reassignment.csv')"
   ]
  }
 ],
 "metadata": {
  "colab": {
   "name": "CANDEV2022.ipynb",
   "provenance": []
  },
  "kernelspec": {
   "display_name": "Python 3",
   "language": "python",
   "name": "python3"
  },
  "language_info": {
   "codemirror_mode": {
    "name": "ipython",
    "version": 3
   },
   "file_extension": ".py",
   "mimetype": "text/x-python",
   "name": "python",
   "nbconvert_exporter": "python",
   "pygments_lexer": "ipython3",
   "version": "3.8.8"
  }
 },
 "nbformat": 4,
 "nbformat_minor": 1
}
